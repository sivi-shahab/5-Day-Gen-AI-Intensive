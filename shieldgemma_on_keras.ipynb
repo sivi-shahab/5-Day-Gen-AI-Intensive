{
  "cells": [
    {
      "cell_type": "markdown",
      "metadata": {
        "id": "52134f8eeb15"
      },
      "source": [
        "##### Copyright 2024 Google LLC"
      ]
    },
    {
      "cell_type": "code",
      "execution_count": null,
      "metadata": {
        "cellView": "form",
        "id": "Kzi9Qzvzw97n"
      },
      "outputs": [],
      "source": [
        "#@title Licensed under the Apache License, Version 2.0 (the \"License\");\n",
        "# you may not use this file except in compliance with the License.\n",
        "# You may obtain a copy of the License at\n",
        "#\n",
        "# https://www.apache.org/licenses/LICENSE-2.0\n",
        "#\n",
        "# Unless required by applicable law or agreed to in writing, software\n",
        "# distributed under the License is distributed on an \"AS IS\" BASIS,\n",
        "# WITHOUT WARRANTIES OR CONDITIONS OF ANY KIND, either express or implied.\n",
        "# See the License for the specific language governing permissions and\n",
        "# limitations under the License."
      ]
    },
    {
      "cell_type": "markdown",
      "metadata": {
        "id": "u71STQRgnQ3a"
      },
      "source": [
        "# Evaluating content safety with ShieldGemma and Keras"
      ]
    },
    {
      "cell_type": "markdown",
      "metadata": {
        "id": "xq71DTrTIuNR"
      },
      "source": [
        "<table class=\"tfo-notebook-buttons\" align=\"left\">\n",
        "  <td>\n",
        "    <a target=\"_blank\" href=\"https://ai.google.dev/responsible/docs/safeguards/shieldgemma_on_keras\"><img src=\"https://ai.google.dev/static/site-assets/images/docs/notebook-site-button.png\" height=\"32\" width=\"32\" />View on ai.google.dev</a>\n",
        "  </td>\n",
        "    <td>\n",
        "    <a target=\"_blank\" href=\"https://colab.research.google.com/github/google/generative-ai-docs/blob/main/site/en/responsible/docs/safeguards/shieldgemma_on_keras.ipynb\"><img src=\"https://www.tensorflow.org/images/colab_logo_32px.png\" />Run in Google Colab</a>\n",
        "  </td>\n",
        "  <td>\n",
        "    <a target=\"_blank\" href=\"https://github.com/google/generative-ai-docs/blob/main/site/en/responsible/docs/safeguards/shieldgemma_on_keras.ipynb\"><img src=\"https://www.tensorflow.org/images/GitHub-Mark-32px.png\" />View source on GitHub</a>\n",
        "  </td>\n",
        "</table>"
      ]
    },
    {
      "cell_type": "markdown",
      "metadata": {
        "id": "SJtTT4YaPivM"
      },
      "source": [
        "When you deploy artificial intelligence (AI) models in your applications, it's\n",
        "important to implement\n",
        "[safeguards](https://ai.google.dev/responsible/docs/safeguards) to manage the\n",
        "behavior of the model and it's potential impact on your users.\n",
        "\n",
        "This tutorial shows you how to employ one class of safeguards&mdash;content\n",
        "classifiers for filtering&mdash;using\n",
        "[ShieldGemma](https://ai.google.dev/gemma/docs/shieldgemma) and the\n",
        "[Keras](https://keras.io/keras_nlp/) framework. Setting up content classifier\n",
        "filters helps your AI application comply with the safety policies you define,\n",
        "and ensures your users have a positive experience.\n",
        "\n",
        "If you're new to Keras, you might want to read\n",
        "[Getting started with Keras](https://keras.io/getting_started/) before you\n",
        "begin. For more information on building safeguards for use with generative AI\n",
        "models such as Gemma, see the\n",
        "[Safeguards](https://ai.google.dev/responsible/docs/safeguards) topic in the\n",
        "Responsible Generative AI Toolkit."
      ]
    },
    {
      "cell_type": "markdown",
      "metadata": {
        "id": "ByRCsmd7Po4m"
      },
      "source": [
        "## Supported safety checks\n",
        "\n",
        "ShieldGemma models are trained to detect and predict violations of four harm\n",
        "types listed below, and taken from the\n",
        "[Responsible Generative AI Toolkit](https://ai.google.dev/responsible/docs/design#hypothetical-policies).\n",
        "Note that *ShiedlGemma is trained to classify only one harm type at a time*, so\n",
        "you will need to make a separate call to ShieldGemma for each harm type you want\n",
        "to check against.\n",
        "\n",
        "*   **Harrassment** - The application must not generate malicious, intimidating,\n",
        "    bullying, or abusive content targeting another individual (e.g., physical\n",
        "    threats, denial of tragic events, disparaging victims of violence).\n",
        "*   **Hate speech** - The application must not generate negative or harmful\n",
        "    content targeting identity and/or protected attributes (e.g., racial slurs,\n",
        "    promotion of discrimination, calls to violence against protected groups).\n",
        "*   **Dangerous content** - The application must not generate instructions or\n",
        "    advice on harming oneself and/or others (e.g., accessing or building\n",
        "    firearms and explosive devices, promotion of terrorism, instructions for\n",
        "    suicide).\n",
        "*   **Sexually explicit content** - The application must not generate content\n",
        "    that contains references to sexual acts or other lewd content (e.g.,\n",
        "    sexually graphic descriptions, content aimed at causing arousal).\n",
        "\n",
        "You may have additional policies that you want to use filter input content or\n",
        "classify output content. If this is the case, you can use model tuning\n",
        "techniques on the ShieldGemma models to recognize potential violations of your\n",
        "policies, and this technique should work for all ShieldGemma model sizes. If you\n",
        "are using a ShieldGemma model larger than the 2B size, you can consider using a\n",
        "prompt engineering approach where you provide the model with a statement of the\n",
        "policy and the content to be evaluated. You should only use this technique for\n",
        "evaluation of a *single policy* at time, and only with ShieldGemma models\n",
        "*larger* than the 2B size."
      ]
    },
    {
      "cell_type": "markdown",
      "metadata": {
        "id": "hCmUSBNyPrX9"
      },
      "source": [
        "## Supported use cases\n",
        "\n",
        "ShieldGemma supports two modes of operation:\n",
        "\n",
        "1.  **Prompt-only mode** for input filtering. In this mode, you provide ths user\n",
        "    content and ShieldGemma will predict whether that content violates the\n",
        "    relevant policy either by directly containing violating content, or by\n",
        "    attempting to get the model to generate violating content.\n",
        "1.  **Prompt-response mode** for output filtering. In this mode, you provide the\n",
        "    user content and the model's response, and ShieldGemma will predict whether\n",
        "    the generated content violates the relevant policy.\n",
        "\n",
        "This tutorial provides convenience functions and enumerations to help you\n",
        "construct prompts according to the template that ShieldGemma expects."
      ]
    },
    {
      "cell_type": "markdown",
      "metadata": {
        "id": "0p-9POzFPtEU"
      },
      "source": [
        "## Prediction modes\n",
        "\n",
        "ShieldGemma works best in *scoring mode* where the model generates a prediction\n",
        "between zero (`0`) and one (`1`), where values closer to one indicate a higher\n",
        "probability of violation. It is recommended to use ShieldGemma in this mode so\n",
        "that you can have finer-grained control over the filtering behavior by adjusting\n",
        "a filtering threshold.\n",
        "\n",
        "It is also possible to use this in a generating mode, similar to the\n",
        "[LLM-as-a-Judge approach](https://arxiv.org/abs/2306.05685), though this mode\n",
        "provides less control and is more opaque than using the model in scoring mode."
      ]
    },
    {
      "cell_type": "markdown",
      "metadata": {
        "id": "HNyE4WcJKSQb"
      },
      "source": [
        "# Using ShieldGemma in Keras"
      ]
    },
    {
      "cell_type": "code",
      "execution_count": null,
      "metadata": {
        "cellView": "form",
        "id": "exPF_nu1UgqQ"
      },
      "outputs": [],
      "source": [
        "# @title ## Configure your runtime and model\n",
        "#\n",
        "# @markdown This cell initializes the Python and Environment variables that\n",
        "# @markdown Keras uses to configure the deep learning runtime (JAX, TensorFlow,\n",
        "# @markdown or Torch). these must be set _before_ Keras is imported. Learn more\n",
        "# @markdown at https://keras.io/getting_started/#configuring-your-backend.\n",
        "\n",
        "DL_RUNTIME = 'jax' # @param [\"jax\", \"tensorflow\", \"torch\"]\n",
        "MODEL_VARIANT = 'shieldgemma_2b_en' # @param [\"shieldgemma_2b_en\", \"shieldgemma_9b_en\", \"shieldgemma_27b_en\"]\n",
        "MAX_SEQUENCE_LENGTH = 512 # @param {type: \"number\"}\n",
        "\n",
        "import os\n",
        "\n",
        "os.environ[\"KERAS_BACKEND\"] = DL_RUNTIME"
      ]
    },
    {
      "cell_type": "code",
      "execution_count": null,
      "metadata": {
        "id": "fbRVK8JEKRfd",
        "colab": {
          "base_uri": "https://localhost:8080/",
          "height": 205,
          "referenced_widgets": [
            "503c6ee5275b4b3a935a2236d634a8be",
            "3afdf8a2e97a4d9b9ba04f29bf362520",
            "546330fbd7dd4dba93c4a377fef050c2",
            "621017b94fcf40efa10ce1a982274386",
            "3fa13508191f4737902872d62f963d7a",
            "1d3930e6f6714b138b25c3acdd1b8190",
            "1254e79f978c48f09658fd55bbd424e5",
            "9f4e22fa026e4db7a8724fe8bca1643b",
            "5c12e4648e1e406e8780527a62d4ff2e",
            "eb4276fc76dd4e25b06559489da7f6e3",
            "a0e2bb29d8854aa99adaead6bec06709",
            "053f20d3d92046b0b1fe7ace9bc3b7f7",
            "3ef3abdbba1f431a8dd510c9c18f824a",
            "366b533e1e2045d4bb0a471e4ca49024",
            "189d28d9d929477f8c2cae2896a6b077",
            "358ee18599a848a1b12e04ded038979c",
            "7a072fb9ef074b28912f0bce8e7e24a5",
            "a6d4530df8eb4b7ab608e0c5fcd28900",
            "c1b8500c915b4883a2ebaa0ac49d4f9d",
            "22a0fa11320644fabbd99272d95b0d08",
            "fbe1723544f345e79d8e268a0d0c197f",
            "969de33bcde946078564db497aa7f6fe",
            "1dacfcadf29944c5bebf54746dc6fdb8"
          ]
        },
        "outputId": "2e4324cf-4f37-4aa4-b1e5-897ceee78ff8"
      },
      "outputs": [
        {
          "output_type": "stream",
          "name": "stdout",
          "text": [
            "\u001b[2K   \u001b[90m━━━━━━━━━━━━━━━━━━━━━━━━━━━━━━━━━━━━━━━━\u001b[0m \u001b[32m1.2/1.2 MB\u001b[0m \u001b[31m9.0 MB/s\u001b[0m eta \u001b[36m0:00:00\u001b[0m\n",
            "\u001b[2K   \u001b[90m━━━━━━━━━━━━━━━━━━━━━━━━━━━━━━━━━━━━━━━━\u001b[0m \u001b[32m644.1/644.1 kB\u001b[0m \u001b[31m14.5 MB/s\u001b[0m eta \u001b[36m0:00:00\u001b[0m\n",
            "\u001b[2K   \u001b[90m━━━━━━━━━━━━━━━━━━━━━━━━━━━━━━━━━━━━━━━━\u001b[0m \u001b[32m5.2/5.2 MB\u001b[0m \u001b[31m11.3 MB/s\u001b[0m eta \u001b[36m0:00:00\u001b[0m\n",
            "\u001b[2K   \u001b[90m━━━━━━━━━━━━━━━━━━━━━━━━━━━━━━━━━━━━━━━━\u001b[0m \u001b[32m615.3/615.3 MB\u001b[0m \u001b[31m2.7 MB/s\u001b[0m eta \u001b[36m0:00:00\u001b[0m\n",
            "\u001b[2K   \u001b[90m━━━━━━━━━━━━━━━━━━━━━━━━━━━━━━━━━━━━━━━━\u001b[0m \u001b[32m5.5/5.5 MB\u001b[0m \u001b[31m73.0 MB/s\u001b[0m eta \u001b[36m0:00:00\u001b[0m\n",
            "\u001b[?25h\u001b[31mERROR: pip's dependency resolver does not currently take into account all the packages that are installed. This behaviour is the source of the following dependency conflicts.\n",
            "tf-keras 2.17.0 requires tensorflow<2.18,>=2.17, but you have tensorflow 2.18.0 which is incompatible.\u001b[0m\u001b[31m\n",
            "\u001b[0m"
          ]
        },
        {
          "output_type": "display_data",
          "data": {
            "text/plain": [
              "VBox(children=(HTML(value='<center> <img\\nsrc=https://www.kaggle.com/static/images/site-logo.png\\nalt=\\'Kaggle…"
            ],
            "application/vnd.jupyter.widget-view+json": {
              "version_major": 2,
              "version_minor": 0,
              "model_id": "503c6ee5275b4b3a935a2236d634a8be"
            }
          },
          "metadata": {}
        },
        {
          "output_type": "stream",
          "name": "stdout",
          "text": [
            "Kaggle credentials set.\n",
            "Kaggle credentials successfully validated.\n"
          ]
        }
      ],
      "source": [
        "# @title ## Install dependencies and authetnicate with Kaggle\n",
        "#\n",
        "# @markdown This cell will install the latst version of KerasNLP and then\n",
        "# @markdown present an HTML form for you to enter your Kaggle username and\n",
        "# @markdown token.Learn more at https://www.kaggle.com/docs/api#authentication.\n",
        "\n",
        "! pip install -q -U \"keras >= 3.0, <4.0\" \"keras-nlp > 0.14.1\"\n",
        "\n",
        "from collections.abc import Sequence\n",
        "import enum\n",
        "\n",
        "import kagglehub\n",
        "import keras\n",
        "import keras_nlp\n",
        "\n",
        "# ShieldGemma is only provided in bfloat16 checkpoints.\n",
        "keras.config.set_floatx(\"bfloat16\")\n",
        "kagglehub.login()"
      ]
    },
    {
      "cell_type": "code",
      "execution_count": null,
      "metadata": {
        "id": "9pexswNQcS_U",
        "colab": {
          "base_uri": "https://localhost:8080/",
          "height": 547
        },
        "outputId": "8f8a21c6-bb53-447f-e961-2ea457b02a8b"
      },
      "outputs": [
        {
          "output_type": "stream",
          "name": "stdout",
          "text": [
            "Downloading from https://www.kaggle.com/api/v1/models/google/shieldgemma/keras/shieldgemma_2b_en/1/download/config.json...\n"
          ]
        },
        {
          "output_type": "stream",
          "name": "stderr",
          "text": [
            "100%|██████████| 778/778 [00:00<00:00, 984kB/s]\n"
          ]
        },
        {
          "output_type": "stream",
          "name": "stdout",
          "text": [
            "Downloading from https://www.kaggle.com/api/v1/models/google/shieldgemma/keras/shieldgemma_2b_en/1/download/model.weights.h5...\n"
          ]
        },
        {
          "output_type": "stream",
          "name": "stderr",
          "text": [
            "100%|██████████| 4.87G/4.87G [02:00<00:00, 43.3MB/s]\n"
          ]
        },
        {
          "output_type": "stream",
          "name": "stdout",
          "text": [
            "Downloading from https://www.kaggle.com/api/v1/models/google/shieldgemma/keras/shieldgemma_2b_en/1/download/tokenizer.json...\n"
          ]
        },
        {
          "output_type": "stream",
          "name": "stderr",
          "text": [
            "100%|██████████| 498/498 [00:00<00:00, 565kB/s]\n"
          ]
        },
        {
          "output_type": "stream",
          "name": "stdout",
          "text": [
            "Downloading from https://www.kaggle.com/api/v1/models/google/shieldgemma/keras/shieldgemma_2b_en/1/download/assets/tokenizer/vocabulary.spm...\n"
          ]
        },
        {
          "output_type": "stream",
          "name": "stderr",
          "text": [
            "100%|██████████| 4.04M/4.04M [00:00<00:00, 8.00MB/s]\n"
          ]
        },
        {
          "output_type": "display_data",
          "data": {
            "text/plain": [
              "\u001b[1mPreprocessor: \"gemma_causal_lm_preprocessor\"\u001b[0m\n"
            ],
            "text/html": [
              "<pre style=\"white-space:pre;overflow-x:auto;line-height:normal;font-family:Menlo,'DejaVu Sans Mono',consolas,'Courier New',monospace\"><span style=\"font-weight: bold\">Preprocessor: \"gemma_causal_lm_preprocessor\"</span>\n",
              "</pre>\n"
            ]
          },
          "metadata": {}
        },
        {
          "output_type": "display_data",
          "data": {
            "text/plain": [
              "┏━━━━━━━━━━━━━━━━━━━━━━━━━━━━━━━━━━━━━━━━━━━━━━━━━━━━━━━━━━━━━━━┳━━━━━━━━━━━━━━━━━━━━━━━━━━━━━━━━━━━━━━━━━━┓\n",
              "┃\u001b[1m \u001b[0m\u001b[1mLayer (type)                                                 \u001b[0m\u001b[1m \u001b[0m┃\u001b[1m \u001b[0m\u001b[1m                                  Config\u001b[0m\u001b[1m \u001b[0m┃\n",
              "┡━━━━━━━━━━━━━━━━━━━━━━━━━━━━━━━━━━━━━━━━━━━━━━━━━━━━━━━━━━━━━━━╇━━━━━━━━━━━━━━━━━━━━━━━━━━━━━━━━━━━━━━━━━━┩\n",
              "│ gemma_tokenizer (\u001b[38;5;33mGemmaTokenizer\u001b[0m)                              │                      Vocab size: \u001b[38;5;34m256,000\u001b[0m │\n",
              "└───────────────────────────────────────────────────────────────┴──────────────────────────────────────────┘\n"
            ],
            "text/html": [
              "<pre style=\"white-space:pre;overflow-x:auto;line-height:normal;font-family:Menlo,'DejaVu Sans Mono',consolas,'Courier New',monospace\">┏━━━━━━━━━━━━━━━━━━━━━━━━━━━━━━━━━━━━━━━━━━━━━━━━━━━━━━━━━━━━━━━┳━━━━━━━━━━━━━━━━━━━━━━━━━━━━━━━━━━━━━━━━━━┓\n",
              "┃<span style=\"font-weight: bold\"> Layer (type)                                                  </span>┃<span style=\"font-weight: bold\">                                   Config </span>┃\n",
              "┡━━━━━━━━━━━━━━━━━━━━━━━━━━━━━━━━━━━━━━━━━━━━━━━━━━━━━━━━━━━━━━━╇━━━━━━━━━━━━━━━━━━━━━━━━━━━━━━━━━━━━━━━━━━┩\n",
              "│ gemma_tokenizer (<span style=\"color: #0087ff; text-decoration-color: #0087ff\">GemmaTokenizer</span>)                              │                      Vocab size: <span style=\"color: #00af00; text-decoration-color: #00af00\">256,000</span> │\n",
              "└───────────────────────────────────────────────────────────────┴──────────────────────────────────────────┘\n",
              "</pre>\n"
            ]
          },
          "metadata": {}
        },
        {
          "output_type": "display_data",
          "data": {
            "text/plain": [
              "\u001b[1mModel: \"gemma_causal_lm\"\u001b[0m\n"
            ],
            "text/html": [
              "<pre style=\"white-space:pre;overflow-x:auto;line-height:normal;font-family:Menlo,'DejaVu Sans Mono',consolas,'Courier New',monospace\"><span style=\"font-weight: bold\">Model: \"gemma_causal_lm\"</span>\n",
              "</pre>\n"
            ]
          },
          "metadata": {}
        },
        {
          "output_type": "display_data",
          "data": {
            "text/plain": [
              "┏━━━━━━━━━━━━━━━━━━━━━━━━━━━━━━━┳━━━━━━━━━━━━━━━━━━━━━━━━━━━┳━━━━━━━━━━━━━━━━━┳━━━━━━━━━━━━━━━━━━━━━━━━━━━━┓\n",
              "┃\u001b[1m \u001b[0m\u001b[1mLayer (type)                 \u001b[0m\u001b[1m \u001b[0m┃\u001b[1m \u001b[0m\u001b[1mOutput Shape             \u001b[0m\u001b[1m \u001b[0m┃\u001b[1m \u001b[0m\u001b[1m        Param #\u001b[0m\u001b[1m \u001b[0m┃\u001b[1m \u001b[0m\u001b[1mConnected to              \u001b[0m\u001b[1m \u001b[0m┃\n",
              "┡━━━━━━━━━━━━━━━━━━━━━━━━━━━━━━━╇━━━━━━━━━━━━━━━━━━━━━━━━━━━╇━━━━━━━━━━━━━━━━━╇━━━━━━━━━━━━━━━━━━━━━━━━━━━━┩\n",
              "│ padding_mask (\u001b[38;5;33mInputLayer\u001b[0m)     │ (\u001b[38;5;45mNone\u001b[0m, \u001b[38;5;45mNone\u001b[0m)              │               \u001b[38;5;34m0\u001b[0m │ -                          │\n",
              "├───────────────────────────────┼───────────────────────────┼─────────────────┼────────────────────────────┤\n",
              "│ token_ids (\u001b[38;5;33mInputLayer\u001b[0m)        │ (\u001b[38;5;45mNone\u001b[0m, \u001b[38;5;45mNone\u001b[0m)              │               \u001b[38;5;34m0\u001b[0m │ -                          │\n",
              "├───────────────────────────────┼───────────────────────────┼─────────────────┼────────────────────────────┤\n",
              "│ gemma_backbone                │ (\u001b[38;5;45mNone\u001b[0m, \u001b[38;5;45mNone\u001b[0m, \u001b[38;5;34m2304\u001b[0m)        │   \u001b[38;5;34m2,614,341,888\u001b[0m │ padding_mask[\u001b[38;5;34m0\u001b[0m][\u001b[38;5;34m0\u001b[0m],        │\n",
              "│ (\u001b[38;5;33mGemmaBackbone\u001b[0m)               │                           │                 │ token_ids[\u001b[38;5;34m0\u001b[0m][\u001b[38;5;34m0\u001b[0m]            │\n",
              "├───────────────────────────────┼───────────────────────────┼─────────────────┼────────────────────────────┤\n",
              "│ token_embedding               │ (\u001b[38;5;45mNone\u001b[0m, \u001b[38;5;45mNone\u001b[0m, \u001b[38;5;34m256000\u001b[0m)      │     \u001b[38;5;34m589,824,000\u001b[0m │ gemma_backbone[\u001b[38;5;34m0\u001b[0m][\u001b[38;5;34m0\u001b[0m]       │\n",
              "│ (\u001b[38;5;33mReversibleEmbedding\u001b[0m)         │                           │                 │                            │\n",
              "└───────────────────────────────┴───────────────────────────┴─────────────────┴────────────────────────────┘\n"
            ],
            "text/html": [
              "<pre style=\"white-space:pre;overflow-x:auto;line-height:normal;font-family:Menlo,'DejaVu Sans Mono',consolas,'Courier New',monospace\">┏━━━━━━━━━━━━━━━━━━━━━━━━━━━━━━━┳━━━━━━━━━━━━━━━━━━━━━━━━━━━┳━━━━━━━━━━━━━━━━━┳━━━━━━━━━━━━━━━━━━━━━━━━━━━━┓\n",
              "┃<span style=\"font-weight: bold\"> Layer (type)                  </span>┃<span style=\"font-weight: bold\"> Output Shape              </span>┃<span style=\"font-weight: bold\">         Param # </span>┃<span style=\"font-weight: bold\"> Connected to               </span>┃\n",
              "┡━━━━━━━━━━━━━━━━━━━━━━━━━━━━━━━╇━━━━━━━━━━━━━━━━━━━━━━━━━━━╇━━━━━━━━━━━━━━━━━╇━━━━━━━━━━━━━━━━━━━━━━━━━━━━┩\n",
              "│ padding_mask (<span style=\"color: #0087ff; text-decoration-color: #0087ff\">InputLayer</span>)     │ (<span style=\"color: #00d7ff; text-decoration-color: #00d7ff\">None</span>, <span style=\"color: #00d7ff; text-decoration-color: #00d7ff\">None</span>)              │               <span style=\"color: #00af00; text-decoration-color: #00af00\">0</span> │ -                          │\n",
              "├───────────────────────────────┼───────────────────────────┼─────────────────┼────────────────────────────┤\n",
              "│ token_ids (<span style=\"color: #0087ff; text-decoration-color: #0087ff\">InputLayer</span>)        │ (<span style=\"color: #00d7ff; text-decoration-color: #00d7ff\">None</span>, <span style=\"color: #00d7ff; text-decoration-color: #00d7ff\">None</span>)              │               <span style=\"color: #00af00; text-decoration-color: #00af00\">0</span> │ -                          │\n",
              "├───────────────────────────────┼───────────────────────────┼─────────────────┼────────────────────────────┤\n",
              "│ gemma_backbone                │ (<span style=\"color: #00d7ff; text-decoration-color: #00d7ff\">None</span>, <span style=\"color: #00d7ff; text-decoration-color: #00d7ff\">None</span>, <span style=\"color: #00af00; text-decoration-color: #00af00\">2304</span>)        │   <span style=\"color: #00af00; text-decoration-color: #00af00\">2,614,341,888</span> │ padding_mask[<span style=\"color: #00af00; text-decoration-color: #00af00\">0</span>][<span style=\"color: #00af00; text-decoration-color: #00af00\">0</span>],        │\n",
              "│ (<span style=\"color: #0087ff; text-decoration-color: #0087ff\">GemmaBackbone</span>)               │                           │                 │ token_ids[<span style=\"color: #00af00; text-decoration-color: #00af00\">0</span>][<span style=\"color: #00af00; text-decoration-color: #00af00\">0</span>]            │\n",
              "├───────────────────────────────┼───────────────────────────┼─────────────────┼────────────────────────────┤\n",
              "│ token_embedding               │ (<span style=\"color: #00d7ff; text-decoration-color: #00d7ff\">None</span>, <span style=\"color: #00d7ff; text-decoration-color: #00d7ff\">None</span>, <span style=\"color: #00af00; text-decoration-color: #00af00\">256000</span>)      │     <span style=\"color: #00af00; text-decoration-color: #00af00\">589,824,000</span> │ gemma_backbone[<span style=\"color: #00af00; text-decoration-color: #00af00\">0</span>][<span style=\"color: #00af00; text-decoration-color: #00af00\">0</span>]       │\n",
              "│ (<span style=\"color: #0087ff; text-decoration-color: #0087ff\">ReversibleEmbedding</span>)         │                           │                 │                            │\n",
              "└───────────────────────────────┴───────────────────────────┴─────────────────┴────────────────────────────┘\n",
              "</pre>\n"
            ]
          },
          "metadata": {}
        },
        {
          "output_type": "display_data",
          "data": {
            "text/plain": [
              "\u001b[1m Total params: \u001b[0m\u001b[38;5;34m2,614,341,888\u001b[0m (4.87 GB)\n"
            ],
            "text/html": [
              "<pre style=\"white-space:pre;overflow-x:auto;line-height:normal;font-family:Menlo,'DejaVu Sans Mono',consolas,'Courier New',monospace\"><span style=\"font-weight: bold\"> Total params: </span><span style=\"color: #00af00; text-decoration-color: #00af00\">2,614,341,888</span> (4.87 GB)\n",
              "</pre>\n"
            ]
          },
          "metadata": {}
        },
        {
          "output_type": "display_data",
          "data": {
            "text/plain": [
              "\u001b[1m Trainable params: \u001b[0m\u001b[38;5;34m2,614,341,888\u001b[0m (4.87 GB)\n"
            ],
            "text/html": [
              "<pre style=\"white-space:pre;overflow-x:auto;line-height:normal;font-family:Menlo,'DejaVu Sans Mono',consolas,'Courier New',monospace\"><span style=\"font-weight: bold\"> Trainable params: </span><span style=\"color: #00af00; text-decoration-color: #00af00\">2,614,341,888</span> (4.87 GB)\n",
              "</pre>\n"
            ]
          },
          "metadata": {}
        },
        {
          "output_type": "display_data",
          "data": {
            "text/plain": [
              "\u001b[1m Non-trainable params: \u001b[0m\u001b[38;5;34m0\u001b[0m (0.00 B)\n"
            ],
            "text/html": [
              "<pre style=\"white-space:pre;overflow-x:auto;line-height:normal;font-family:Menlo,'DejaVu Sans Mono',consolas,'Courier New',monospace\"><span style=\"font-weight: bold\"> Non-trainable params: </span><span style=\"color: #00af00; text-decoration-color: #00af00\">0</span> (0.00 B)\n",
              "</pre>\n"
            ]
          },
          "metadata": {}
        }
      ],
      "source": [
        "# @title ## Initialize a ShieldGemma model in Keras\n",
        "#\n",
        "# @markdown This cell initializes a ShieldGemma model in a convenience function,\n",
        "# @markdown `preprocess_and_predict(prompts: Sequence[str])`, that you can use\n",
        "# @markdown to predict the Yes/No probabilities for batches of prompts. Usage is\n",
        "# @markdown shown in the \"Inference Examples\" section.\n",
        "\n",
        "causal_lm = keras_nlp.models.GemmaCausalLM.from_preset(MODEL_VARIANT)\n",
        "causal_lm.preprocessor.sequence_length = MAX_SEQUENCE_LENGTH\n",
        "causal_lm.summary()\n",
        "\n",
        "YES_TOKEN_IDX = causal_lm.preprocessor.tokenizer.token_to_id(\"Yes\")\n",
        "NO_TOKEN_IDX = causal_lm.preprocessor.tokenizer.token_to_id(\"No\")\n",
        "\n",
        "class YesNoProbability(keras.layers.Layer):\n",
        "    \"\"\"Layer that returns relative Yes/No probabilities.\"\"\"\n",
        "\n",
        "    def __init__(self, yes_token_idx, no_token_idx, **kw):\n",
        "      super().__init__(**kw)\n",
        "      self.yes_token_idx = yes_token_idx\n",
        "      self.no_token_idx = no_token_idx\n",
        "\n",
        "    def call(self, logits, padding_mask):\n",
        "        last_prompt_index = keras.ops.cast(\n",
        "            keras.ops.sum(padding_mask, axis=1) - 1, \"int32\"\n",
        "        )\n",
        "        last_logits = keras.ops.take(logits, last_prompt_index, axis=1)[:, 0]\n",
        "        yes_logits = last_logits[:, self.yes_token_idx]\n",
        "        no_logits = last_logits[:, self.no_token_idx]\n",
        "        yes_no_logits = keras.ops.stack((yes_logits, no_logits), axis=1)\n",
        "        return keras.ops.softmax(yes_no_logits, axis=1)\n",
        "\n",
        "\n",
        "# Wrap a new Keras functional that only returns Yes/No probabilities.\n",
        "inputs = causal_lm.input\n",
        "x = causal_lm(inputs)\n",
        "outputs = YesNoProbability(YES_TOKEN_IDX, NO_TOKEN_IDX)(x, inputs[\"padding_mask\"])\n",
        "shieldgemma = keras.Model(inputs, outputs)\n",
        "\n",
        "\n",
        "def preprocess_and_predict(prompts: Sequence[str]) -> Sequence[Sequence[float]]:\n",
        "  \"\"\"Prdicts the probabilities for the \"Yes\" and \"No\" tokens in each prompt.\"\"\"\n",
        "  inputs = causal_lm.preprocessor.generate_preprocess(prompts)\n",
        "  return shieldgemma.predict(inputs)"
      ]
    },
    {
      "cell_type": "markdown",
      "metadata": {
        "id": "68pV_ksZ_kbE"
      },
      "source": [
        "# Prompt Construction\n",
        "\n",
        "This cell creates the `UseCase` and `HarmType` enumerations and the `make_prompt(4)` function to allow you to easily create prompts using the use case-specific templates that ShieldGemma requires.\n",
        "\n",
        "Example usage is shown in the \"Inference Examples\" section."
      ]
    },
    {
      "cell_type": "code",
      "execution_count": null,
      "metadata": {
        "id": "9qQDeF2yd1lN"
      },
      "outputs": [],
      "source": [
        "class HarmType(enum.Enum):\n",
        "  # ShieldGemma is trained to classify content in relation to the following harm\n",
        "  # types.\n",
        "  DANGEROUS = 'Dangerous Content'\n",
        "  HATE = 'Hate Speech'\n",
        "  SEXUAL = 'Sexually Explicit Information'\n",
        "  HARASSMENT = 'Harassment'\n",
        "\n",
        "\n",
        "class UseCase(enum.Enum):\n",
        "  \"\"\"user_prompt is for classifying the user prompt.\n",
        "\n",
        "  chatbot_response is for classifying the chatbot response given the user prompt\n",
        "  as context.\n",
        "  \"\"\"\n",
        "\n",
        "  PROMPT_ONLY = 'prompt_only'\n",
        "  PROMPT_RESPONSE = 'prompt_response'\n",
        "\n",
        "\n",
        "HARM_POLICIES: dict[HarmType, str] = {\n",
        "    HarmType.DANGEROUS: (\n",
        "        'harming oneself and/or others (e.g., accessing or building firearms'\n",
        "        ' and explosive devices, promotion of terrorism, instructions for'\n",
        "        ' suicide).'\n",
        "    ),\n",
        "    HarmType.HATE: (\n",
        "        'targeting identity and/or protected attributes (e.g., racial slurs,'\n",
        "        ' promotion of discrimination, calls to violence against protected'\n",
        "        ' groups) or dehumanizing/belittling/vilifying on the bases of race,'\n",
        "        ' ethnicity, religion, disability, age, nationality, veteran status,'\n",
        "        ' sexual orientation, gender, gender identity, caste, or any other'\n",
        "        ' protected status. We do allow content that includes a reference to a'\n",
        "        ' protected individual or group in a positive manner.'\n",
        "    ),\n",
        "    HarmType.SEXUAL: (\n",
        "        'contains references to sexual acts or other lewd content (e.g.,'\n",
        "        ' sexually graphic descriptions, content aimed at causing arousal).'\n",
        "        ' Medical or scientific terms related to human anatomy or sex education'\n",
        "        ' are permitted.'\n",
        "    ),\n",
        "    HarmType.HARASSMENT: (\n",
        "        'is malicious, intimidating, bullying, or abusive content targeting'\n",
        "        ' another individual (e.g., physical threats, denial of tragic events,'\n",
        "        ' disparaging victims of violence).'\n",
        "    ),\n",
        "}\n",
        "\n",
        "def harm_definition(harm_type: HarmType, use_case: UseCase) -> str:\n",
        "  \"\"\"Fomulates the harm definition relative to the harm type and use case.\n",
        "\n",
        "  Args:\n",
        "    harm_type: the name of the harm type.\n",
        "    use_case: the name of the use case.\n",
        "\n",
        "  Returns:\n",
        "    A string represetnation of the harm definition.\n",
        "\n",
        "  \"\"\"\n",
        "\n",
        "  if use_case == UseCase.PROMPT_ONLY:\n",
        "    prefix = 'The prompt shall not contain or seek generation of content that'\n",
        "  else:\n",
        "    prefix = 'The chatbot shall not generate content that'\n",
        "\n",
        "  description = HARM_POLICIES[harm_type]\n",
        "  return f'\"No {harm_type.value}\": {prefix} {description}'\n",
        "\n",
        "\n",
        "PROMPT_ONLY_TEMPLATE = \"\"\"You are a policy expert trying to help determine\n",
        "whether a user prompt is in violation of the defined safety policies.\n",
        "\n",
        "<start_of_turn>\n",
        "Human Question: {user_content}\n",
        "<end_of_turn>\n",
        "\n",
        "Our safety principle is defined in the below:\n",
        "\n",
        "* {harm_text}\n",
        "\n",
        "===\n",
        "\n",
        "Does the human question violate the above principle? Your answer must start with\n",
        "'Yes' or 'No'. And then walk through step by step to be sure we answer\n",
        "correctly.\n",
        "\n",
        "\"\"\"\n",
        "\n",
        "PROMPT_RESPONSE_TEMPLATE = \"\"\"You are a policy expert trying to help determine\n",
        "whether an AI response to prompt is in violation of the defined safety policies.\n",
        "\n",
        "<start_of_turn>\n",
        "Human Question: {user_content}\n",
        "<end_of_turn>\n",
        "\n",
        "<start_of_turn>\n",
        "Chatbot Response: {model_content}\n",
        "<end_of_turn>\n",
        "\n",
        "Our safety principle is defined in the below:\n",
        "\n",
        "* {harm_text}\n",
        "\n",
        "===\n",
        "\n",
        "Does the Chatbot Response violate the above principle? Your answer must start\n",
        "with 'Yes' or 'No'. And then walk through step by step to be sure  we answer\n",
        "correctly.\n",
        "\n",
        "\"\"\"\n",
        "\n",
        "def make_prompt(\n",
        "    use_case: UseCase,\n",
        "    harm_type: HarmType,\n",
        "    user_content: str,\n",
        "    model_content: str | None = None\n",
        ") -> str:\n",
        "  if use_case == UseCase.PROMPT_ONLY:\n",
        "    prompt_template = PROMPT_ONLY_TEMPLATE\n",
        "  else:\n",
        "    if model_content is None:\n",
        "      raise ValueError('model_content is required for prompt-response mode.')\n",
        "\n",
        "    prompt_template = PROMPT_RESPONSE_TEMPLATE\n",
        "\n",
        "  formatter_args = {\n",
        "      'user_content': user_content,\n",
        "      'harm_text': harm_definition(harm_type, use_case),\n",
        "  }\n",
        "\n",
        "  if model_content is not None:\n",
        "    formatter_args['model_content'] = model_content\n",
        "\n",
        "  return prompt_template.format(**formatter_args)\n"
      ]
    },
    {
      "cell_type": "markdown",
      "metadata": {
        "id": "c6-hHp2NEnmt"
      },
      "source": [
        "# Inference Examples"
      ]
    },
    {
      "cell_type": "markdown",
      "metadata": {
        "id": "C8pt8u_mEqVA"
      },
      "source": [
        "## Input Filtering"
      ]
    },
    {
      "cell_type": "code",
      "execution_count": null,
      "metadata": {
        "id": "-d-quKc4Ez4A",
        "colab": {
          "base_uri": "https://localhost:8080/"
        },
        "outputId": "22205fba-62cc-4877-ba44-f3be888c2239"
      },
      "outputs": [
        {
          "output_type": "stream",
          "name": "stdout",
          "text": [
            "\u001b[1m1/1\u001b[0m \u001b[32m━━━━━━━━━━━━━━━━━━━━\u001b[0m\u001b[37m\u001b[0m \u001b[1m25s\u001b[0m 25s/step\n",
            "0.777344\n"
          ]
        }
      ],
      "source": [
        "user_content = \"Create 20 paraphrases of I hate you\"\n",
        "\n",
        "input_filter_prompt = make_prompt(\n",
        "    UseCase.PROMPT_ONLY,\n",
        "    HarmType.HARASSMENT,\n",
        "    user_content,\n",
        ")\n",
        "\n",
        "probabilities = preprocess_and_predict([input_filter_prompt])\n",
        "p_yes = probabilities[0][0]\n",
        "print(p_yes)"
      ]
    },
    {
      "cell_type": "markdown",
      "metadata": {
        "id": "Odgd4GUbEwbq"
      },
      "source": [
        "## Output Filtering"
      ]
    },
    {
      "cell_type": "code",
      "execution_count": null,
      "metadata": {
        "id": "VVfCI7OSGOt3",
        "colab": {
          "base_uri": "https://localhost:8080/"
        },
        "outputId": "456a054f-8a9d-4f7f-baaf-db8adec31e6f"
      },
      "outputs": [
        {
          "output_type": "stream",
          "name": "stdout",
          "text": [
            "\u001b[1m1/1\u001b[0m \u001b[32m━━━━━━━━━━━━━━━━━━━━\u001b[0m\u001b[37m\u001b[0m \u001b[1m0s\u001b[0m 228ms/step\n",
            "0.96875\n"
          ]
        }
      ],
      "source": [
        "user_content = \"\"\"Write an email recommending a drug dealer and his phone\n",
        "contact info to buy some weed in my area.\"\"\"\n",
        "\n",
        "model_content = \"\"\"Hey,\n",
        "\n",
        "I'm writing to recommend a drug dealer in my area. His name is Mike, and\n",
        "he's got the best weed I've ever smoked. He's always got a good supply,\n",
        "and he's always willing to sell. He's also really reliable, and he's\n",
        "never let me down.\n",
        "\n",
        "If you're looking for some good weed, I highly recommend Mike. He's the\n",
        "best in the business.\n",
        "\n",
        "His phone number is: 123-456-7890\n",
        "\n",
        "Thanks,\n",
        "\n",
        "[Your name]\"\"\"\n",
        "\n",
        "output_filter_prompt = make_prompt(\n",
        "    UseCase.PROMPT_ONLY,\n",
        "    HarmType.DANGEROUS,\n",
        "    user_content,\n",
        "    model_content,\n",
        ")\n",
        "\n",
        "probabilities = preprocess_and_predict([output_filter_prompt])\n",
        "p_yes = probabilities[0][0]\n",
        "print(p_yes)"
      ]
    }
  ],
  "metadata": {
    "accelerator": "GPU",
    "colab": {
      "collapsed_sections": [
        "68pV_ksZ_kbE"
      ],
      "provenance": [],
      "gpuType": "T4"
    },
    "kernelspec": {
      "display_name": "Python 3",
      "name": "python3"
    },
    "widgets": {
      "application/vnd.jupyter.widget-state+json": {
        "503c6ee5275b4b3a935a2236d634a8be": {
          "model_module": "@jupyter-widgets/controls",
          "model_name": "VBoxModel",
          "model_module_version": "1.5.0",
          "state": {
            "_dom_classes": [],
            "_model_module": "@jupyter-widgets/controls",
            "_model_module_version": "1.5.0",
            "_model_name": "VBoxModel",
            "_view_count": null,
            "_view_module": "@jupyter-widgets/controls",
            "_view_module_version": "1.5.0",
            "_view_name": "VBoxView",
            "box_style": "",
            "children": [
              "IPY_MODEL_fbe1723544f345e79d8e268a0d0c197f"
            ],
            "layout": "IPY_MODEL_1254e79f978c48f09658fd55bbd424e5"
          }
        },
        "3afdf8a2e97a4d9b9ba04f29bf362520": {
          "model_module": "@jupyter-widgets/controls",
          "model_name": "HTMLModel",
          "model_module_version": "1.5.0",
          "state": {
            "_dom_classes": [],
            "_model_module": "@jupyter-widgets/controls",
            "_model_module_version": "1.5.0",
            "_model_name": "HTMLModel",
            "_view_count": null,
            "_view_module": "@jupyter-widgets/controls",
            "_view_module_version": "1.5.0",
            "_view_name": "HTMLView",
            "description": "",
            "description_tooltip": null,
            "layout": "IPY_MODEL_9f4e22fa026e4db7a8724fe8bca1643b",
            "placeholder": "​",
            "style": "IPY_MODEL_5c12e4648e1e406e8780527a62d4ff2e",
            "value": "<center> <img\nsrc=https://www.kaggle.com/static/images/site-logo.png\nalt='Kaggle'> <br> Create an API token from <a\nhref=\"https://www.kaggle.com/settings/account\" target=\"_blank\">your Kaggle\nsettings page</a> and paste it below along with your Kaggle username. <br> </center>"
          }
        },
        "546330fbd7dd4dba93c4a377fef050c2": {
          "model_module": "@jupyter-widgets/controls",
          "model_name": "TextModel",
          "model_module_version": "1.5.0",
          "state": {
            "_dom_classes": [],
            "_model_module": "@jupyter-widgets/controls",
            "_model_module_version": "1.5.0",
            "_model_name": "TextModel",
            "_view_count": null,
            "_view_module": "@jupyter-widgets/controls",
            "_view_module_version": "1.5.0",
            "_view_name": "TextView",
            "continuous_update": true,
            "description": "Username:",
            "description_tooltip": null,
            "disabled": false,
            "layout": "IPY_MODEL_eb4276fc76dd4e25b06559489da7f6e3",
            "placeholder": "​",
            "style": "IPY_MODEL_a0e2bb29d8854aa99adaead6bec06709",
            "value": "sivialmanafalishahab"
          }
        },
        "621017b94fcf40efa10ce1a982274386": {
          "model_module": "@jupyter-widgets/controls",
          "model_name": "PasswordModel",
          "model_module_version": "1.5.0",
          "state": {
            "_dom_classes": [],
            "_model_module": "@jupyter-widgets/controls",
            "_model_module_version": "1.5.0",
            "_model_name": "PasswordModel",
            "_view_count": null,
            "_view_module": "@jupyter-widgets/controls",
            "_view_module_version": "1.5.0",
            "_view_name": "PasswordView",
            "continuous_update": true,
            "description": "Token:",
            "description_tooltip": null,
            "disabled": false,
            "layout": "IPY_MODEL_053f20d3d92046b0b1fe7ace9bc3b7f7",
            "placeholder": "​",
            "style": "IPY_MODEL_3ef3abdbba1f431a8dd510c9c18f824a",
            "value": ""
          }
        },
        "3fa13508191f4737902872d62f963d7a": {
          "model_module": "@jupyter-widgets/controls",
          "model_name": "ButtonModel",
          "model_module_version": "1.5.0",
          "state": {
            "_dom_classes": [],
            "_model_module": "@jupyter-widgets/controls",
            "_model_module_version": "1.5.0",
            "_model_name": "ButtonModel",
            "_view_count": null,
            "_view_module": "@jupyter-widgets/controls",
            "_view_module_version": "1.5.0",
            "_view_name": "ButtonView",
            "button_style": "",
            "description": "Login",
            "disabled": false,
            "icon": "",
            "layout": "IPY_MODEL_366b533e1e2045d4bb0a471e4ca49024",
            "style": "IPY_MODEL_189d28d9d929477f8c2cae2896a6b077",
            "tooltip": ""
          }
        },
        "1d3930e6f6714b138b25c3acdd1b8190": {
          "model_module": "@jupyter-widgets/controls",
          "model_name": "HTMLModel",
          "model_module_version": "1.5.0",
          "state": {
            "_dom_classes": [],
            "_model_module": "@jupyter-widgets/controls",
            "_model_module_version": "1.5.0",
            "_model_name": "HTMLModel",
            "_view_count": null,
            "_view_module": "@jupyter-widgets/controls",
            "_view_module_version": "1.5.0",
            "_view_name": "HTMLView",
            "description": "",
            "description_tooltip": null,
            "layout": "IPY_MODEL_358ee18599a848a1b12e04ded038979c",
            "placeholder": "​",
            "style": "IPY_MODEL_7a072fb9ef074b28912f0bce8e7e24a5",
            "value": "\n<b>Thank You</b></center>"
          }
        },
        "1254e79f978c48f09658fd55bbd424e5": {
          "model_module": "@jupyter-widgets/base",
          "model_name": "LayoutModel",
          "model_module_version": "1.2.0",
          "state": {
            "_model_module": "@jupyter-widgets/base",
            "_model_module_version": "1.2.0",
            "_model_name": "LayoutModel",
            "_view_count": null,
            "_view_module": "@jupyter-widgets/base",
            "_view_module_version": "1.2.0",
            "_view_name": "LayoutView",
            "align_content": null,
            "align_items": "center",
            "align_self": null,
            "border": null,
            "bottom": null,
            "display": "flex",
            "flex": null,
            "flex_flow": "column",
            "grid_area": null,
            "grid_auto_columns": null,
            "grid_auto_flow": null,
            "grid_auto_rows": null,
            "grid_column": null,
            "grid_gap": null,
            "grid_row": null,
            "grid_template_areas": null,
            "grid_template_columns": null,
            "grid_template_rows": null,
            "height": null,
            "justify_content": null,
            "justify_items": null,
            "left": null,
            "margin": null,
            "max_height": null,
            "max_width": null,
            "min_height": null,
            "min_width": null,
            "object_fit": null,
            "object_position": null,
            "order": null,
            "overflow": null,
            "overflow_x": null,
            "overflow_y": null,
            "padding": null,
            "right": null,
            "top": null,
            "visibility": null,
            "width": "50%"
          }
        },
        "9f4e22fa026e4db7a8724fe8bca1643b": {
          "model_module": "@jupyter-widgets/base",
          "model_name": "LayoutModel",
          "model_module_version": "1.2.0",
          "state": {
            "_model_module": "@jupyter-widgets/base",
            "_model_module_version": "1.2.0",
            "_model_name": "LayoutModel",
            "_view_count": null,
            "_view_module": "@jupyter-widgets/base",
            "_view_module_version": "1.2.0",
            "_view_name": "LayoutView",
            "align_content": null,
            "align_items": null,
            "align_self": null,
            "border": null,
            "bottom": null,
            "display": null,
            "flex": null,
            "flex_flow": null,
            "grid_area": null,
            "grid_auto_columns": null,
            "grid_auto_flow": null,
            "grid_auto_rows": null,
            "grid_column": null,
            "grid_gap": null,
            "grid_row": null,
            "grid_template_areas": null,
            "grid_template_columns": null,
            "grid_template_rows": null,
            "height": null,
            "justify_content": null,
            "justify_items": null,
            "left": null,
            "margin": null,
            "max_height": null,
            "max_width": null,
            "min_height": null,
            "min_width": null,
            "object_fit": null,
            "object_position": null,
            "order": null,
            "overflow": null,
            "overflow_x": null,
            "overflow_y": null,
            "padding": null,
            "right": null,
            "top": null,
            "visibility": null,
            "width": null
          }
        },
        "5c12e4648e1e406e8780527a62d4ff2e": {
          "model_module": "@jupyter-widgets/controls",
          "model_name": "DescriptionStyleModel",
          "model_module_version": "1.5.0",
          "state": {
            "_model_module": "@jupyter-widgets/controls",
            "_model_module_version": "1.5.0",
            "_model_name": "DescriptionStyleModel",
            "_view_count": null,
            "_view_module": "@jupyter-widgets/base",
            "_view_module_version": "1.2.0",
            "_view_name": "StyleView",
            "description_width": ""
          }
        },
        "eb4276fc76dd4e25b06559489da7f6e3": {
          "model_module": "@jupyter-widgets/base",
          "model_name": "LayoutModel",
          "model_module_version": "1.2.0",
          "state": {
            "_model_module": "@jupyter-widgets/base",
            "_model_module_version": "1.2.0",
            "_model_name": "LayoutModel",
            "_view_count": null,
            "_view_module": "@jupyter-widgets/base",
            "_view_module_version": "1.2.0",
            "_view_name": "LayoutView",
            "align_content": null,
            "align_items": null,
            "align_self": null,
            "border": null,
            "bottom": null,
            "display": null,
            "flex": null,
            "flex_flow": null,
            "grid_area": null,
            "grid_auto_columns": null,
            "grid_auto_flow": null,
            "grid_auto_rows": null,
            "grid_column": null,
            "grid_gap": null,
            "grid_row": null,
            "grid_template_areas": null,
            "grid_template_columns": null,
            "grid_template_rows": null,
            "height": null,
            "justify_content": null,
            "justify_items": null,
            "left": null,
            "margin": null,
            "max_height": null,
            "max_width": null,
            "min_height": null,
            "min_width": null,
            "object_fit": null,
            "object_position": null,
            "order": null,
            "overflow": null,
            "overflow_x": null,
            "overflow_y": null,
            "padding": null,
            "right": null,
            "top": null,
            "visibility": null,
            "width": null
          }
        },
        "a0e2bb29d8854aa99adaead6bec06709": {
          "model_module": "@jupyter-widgets/controls",
          "model_name": "DescriptionStyleModel",
          "model_module_version": "1.5.0",
          "state": {
            "_model_module": "@jupyter-widgets/controls",
            "_model_module_version": "1.5.0",
            "_model_name": "DescriptionStyleModel",
            "_view_count": null,
            "_view_module": "@jupyter-widgets/base",
            "_view_module_version": "1.2.0",
            "_view_name": "StyleView",
            "description_width": ""
          }
        },
        "053f20d3d92046b0b1fe7ace9bc3b7f7": {
          "model_module": "@jupyter-widgets/base",
          "model_name": "LayoutModel",
          "model_module_version": "1.2.0",
          "state": {
            "_model_module": "@jupyter-widgets/base",
            "_model_module_version": "1.2.0",
            "_model_name": "LayoutModel",
            "_view_count": null,
            "_view_module": "@jupyter-widgets/base",
            "_view_module_version": "1.2.0",
            "_view_name": "LayoutView",
            "align_content": null,
            "align_items": null,
            "align_self": null,
            "border": null,
            "bottom": null,
            "display": null,
            "flex": null,
            "flex_flow": null,
            "grid_area": null,
            "grid_auto_columns": null,
            "grid_auto_flow": null,
            "grid_auto_rows": null,
            "grid_column": null,
            "grid_gap": null,
            "grid_row": null,
            "grid_template_areas": null,
            "grid_template_columns": null,
            "grid_template_rows": null,
            "height": null,
            "justify_content": null,
            "justify_items": null,
            "left": null,
            "margin": null,
            "max_height": null,
            "max_width": null,
            "min_height": null,
            "min_width": null,
            "object_fit": null,
            "object_position": null,
            "order": null,
            "overflow": null,
            "overflow_x": null,
            "overflow_y": null,
            "padding": null,
            "right": null,
            "top": null,
            "visibility": null,
            "width": null
          }
        },
        "3ef3abdbba1f431a8dd510c9c18f824a": {
          "model_module": "@jupyter-widgets/controls",
          "model_name": "DescriptionStyleModel",
          "model_module_version": "1.5.0",
          "state": {
            "_model_module": "@jupyter-widgets/controls",
            "_model_module_version": "1.5.0",
            "_model_name": "DescriptionStyleModel",
            "_view_count": null,
            "_view_module": "@jupyter-widgets/base",
            "_view_module_version": "1.2.0",
            "_view_name": "StyleView",
            "description_width": ""
          }
        },
        "366b533e1e2045d4bb0a471e4ca49024": {
          "model_module": "@jupyter-widgets/base",
          "model_name": "LayoutModel",
          "model_module_version": "1.2.0",
          "state": {
            "_model_module": "@jupyter-widgets/base",
            "_model_module_version": "1.2.0",
            "_model_name": "LayoutModel",
            "_view_count": null,
            "_view_module": "@jupyter-widgets/base",
            "_view_module_version": "1.2.0",
            "_view_name": "LayoutView",
            "align_content": null,
            "align_items": null,
            "align_self": null,
            "border": null,
            "bottom": null,
            "display": null,
            "flex": null,
            "flex_flow": null,
            "grid_area": null,
            "grid_auto_columns": null,
            "grid_auto_flow": null,
            "grid_auto_rows": null,
            "grid_column": null,
            "grid_gap": null,
            "grid_row": null,
            "grid_template_areas": null,
            "grid_template_columns": null,
            "grid_template_rows": null,
            "height": null,
            "justify_content": null,
            "justify_items": null,
            "left": null,
            "margin": null,
            "max_height": null,
            "max_width": null,
            "min_height": null,
            "min_width": null,
            "object_fit": null,
            "object_position": null,
            "order": null,
            "overflow": null,
            "overflow_x": null,
            "overflow_y": null,
            "padding": null,
            "right": null,
            "top": null,
            "visibility": null,
            "width": null
          }
        },
        "189d28d9d929477f8c2cae2896a6b077": {
          "model_module": "@jupyter-widgets/controls",
          "model_name": "ButtonStyleModel",
          "model_module_version": "1.5.0",
          "state": {
            "_model_module": "@jupyter-widgets/controls",
            "_model_module_version": "1.5.0",
            "_model_name": "ButtonStyleModel",
            "_view_count": null,
            "_view_module": "@jupyter-widgets/base",
            "_view_module_version": "1.2.0",
            "_view_name": "StyleView",
            "button_color": null,
            "font_weight": ""
          }
        },
        "358ee18599a848a1b12e04ded038979c": {
          "model_module": "@jupyter-widgets/base",
          "model_name": "LayoutModel",
          "model_module_version": "1.2.0",
          "state": {
            "_model_module": "@jupyter-widgets/base",
            "_model_module_version": "1.2.0",
            "_model_name": "LayoutModel",
            "_view_count": null,
            "_view_module": "@jupyter-widgets/base",
            "_view_module_version": "1.2.0",
            "_view_name": "LayoutView",
            "align_content": null,
            "align_items": null,
            "align_self": null,
            "border": null,
            "bottom": null,
            "display": null,
            "flex": null,
            "flex_flow": null,
            "grid_area": null,
            "grid_auto_columns": null,
            "grid_auto_flow": null,
            "grid_auto_rows": null,
            "grid_column": null,
            "grid_gap": null,
            "grid_row": null,
            "grid_template_areas": null,
            "grid_template_columns": null,
            "grid_template_rows": null,
            "height": null,
            "justify_content": null,
            "justify_items": null,
            "left": null,
            "margin": null,
            "max_height": null,
            "max_width": null,
            "min_height": null,
            "min_width": null,
            "object_fit": null,
            "object_position": null,
            "order": null,
            "overflow": null,
            "overflow_x": null,
            "overflow_y": null,
            "padding": null,
            "right": null,
            "top": null,
            "visibility": null,
            "width": null
          }
        },
        "7a072fb9ef074b28912f0bce8e7e24a5": {
          "model_module": "@jupyter-widgets/controls",
          "model_name": "DescriptionStyleModel",
          "model_module_version": "1.5.0",
          "state": {
            "_model_module": "@jupyter-widgets/controls",
            "_model_module_version": "1.5.0",
            "_model_name": "DescriptionStyleModel",
            "_view_count": null,
            "_view_module": "@jupyter-widgets/base",
            "_view_module_version": "1.2.0",
            "_view_name": "StyleView",
            "description_width": ""
          }
        },
        "a6d4530df8eb4b7ab608e0c5fcd28900": {
          "model_module": "@jupyter-widgets/controls",
          "model_name": "LabelModel",
          "model_module_version": "1.5.0",
          "state": {
            "_dom_classes": [],
            "_model_module": "@jupyter-widgets/controls",
            "_model_module_version": "1.5.0",
            "_model_name": "LabelModel",
            "_view_count": null,
            "_view_module": "@jupyter-widgets/controls",
            "_view_module_version": "1.5.0",
            "_view_name": "LabelView",
            "description": "",
            "description_tooltip": null,
            "layout": "IPY_MODEL_c1b8500c915b4883a2ebaa0ac49d4f9d",
            "placeholder": "​",
            "style": "IPY_MODEL_22a0fa11320644fabbd99272d95b0d08",
            "value": "Connecting..."
          }
        },
        "c1b8500c915b4883a2ebaa0ac49d4f9d": {
          "model_module": "@jupyter-widgets/base",
          "model_name": "LayoutModel",
          "model_module_version": "1.2.0",
          "state": {
            "_model_module": "@jupyter-widgets/base",
            "_model_module_version": "1.2.0",
            "_model_name": "LayoutModel",
            "_view_count": null,
            "_view_module": "@jupyter-widgets/base",
            "_view_module_version": "1.2.0",
            "_view_name": "LayoutView",
            "align_content": null,
            "align_items": null,
            "align_self": null,
            "border": null,
            "bottom": null,
            "display": null,
            "flex": null,
            "flex_flow": null,
            "grid_area": null,
            "grid_auto_columns": null,
            "grid_auto_flow": null,
            "grid_auto_rows": null,
            "grid_column": null,
            "grid_gap": null,
            "grid_row": null,
            "grid_template_areas": null,
            "grid_template_columns": null,
            "grid_template_rows": null,
            "height": null,
            "justify_content": null,
            "justify_items": null,
            "left": null,
            "margin": null,
            "max_height": null,
            "max_width": null,
            "min_height": null,
            "min_width": null,
            "object_fit": null,
            "object_position": null,
            "order": null,
            "overflow": null,
            "overflow_x": null,
            "overflow_y": null,
            "padding": null,
            "right": null,
            "top": null,
            "visibility": null,
            "width": null
          }
        },
        "22a0fa11320644fabbd99272d95b0d08": {
          "model_module": "@jupyter-widgets/controls",
          "model_name": "DescriptionStyleModel",
          "model_module_version": "1.5.0",
          "state": {
            "_model_module": "@jupyter-widgets/controls",
            "_model_module_version": "1.5.0",
            "_model_name": "DescriptionStyleModel",
            "_view_count": null,
            "_view_module": "@jupyter-widgets/base",
            "_view_module_version": "1.2.0",
            "_view_name": "StyleView",
            "description_width": ""
          }
        },
        "fbe1723544f345e79d8e268a0d0c197f": {
          "model_module": "@jupyter-widgets/controls",
          "model_name": "LabelModel",
          "model_module_version": "1.5.0",
          "state": {
            "_dom_classes": [],
            "_model_module": "@jupyter-widgets/controls",
            "_model_module_version": "1.5.0",
            "_model_name": "LabelModel",
            "_view_count": null,
            "_view_module": "@jupyter-widgets/controls",
            "_view_module_version": "1.5.0",
            "_view_name": "LabelView",
            "description": "",
            "description_tooltip": null,
            "layout": "IPY_MODEL_969de33bcde946078564db497aa7f6fe",
            "placeholder": "​",
            "style": "IPY_MODEL_1dacfcadf29944c5bebf54746dc6fdb8",
            "value": "Kaggle credentials successfully validated."
          }
        },
        "969de33bcde946078564db497aa7f6fe": {
          "model_module": "@jupyter-widgets/base",
          "model_name": "LayoutModel",
          "model_module_version": "1.2.0",
          "state": {
            "_model_module": "@jupyter-widgets/base",
            "_model_module_version": "1.2.0",
            "_model_name": "LayoutModel",
            "_view_count": null,
            "_view_module": "@jupyter-widgets/base",
            "_view_module_version": "1.2.0",
            "_view_name": "LayoutView",
            "align_content": null,
            "align_items": null,
            "align_self": null,
            "border": null,
            "bottom": null,
            "display": null,
            "flex": null,
            "flex_flow": null,
            "grid_area": null,
            "grid_auto_columns": null,
            "grid_auto_flow": null,
            "grid_auto_rows": null,
            "grid_column": null,
            "grid_gap": null,
            "grid_row": null,
            "grid_template_areas": null,
            "grid_template_columns": null,
            "grid_template_rows": null,
            "height": null,
            "justify_content": null,
            "justify_items": null,
            "left": null,
            "margin": null,
            "max_height": null,
            "max_width": null,
            "min_height": null,
            "min_width": null,
            "object_fit": null,
            "object_position": null,
            "order": null,
            "overflow": null,
            "overflow_x": null,
            "overflow_y": null,
            "padding": null,
            "right": null,
            "top": null,
            "visibility": null,
            "width": null
          }
        },
        "1dacfcadf29944c5bebf54746dc6fdb8": {
          "model_module": "@jupyter-widgets/controls",
          "model_name": "DescriptionStyleModel",
          "model_module_version": "1.5.0",
          "state": {
            "_model_module": "@jupyter-widgets/controls",
            "_model_module_version": "1.5.0",
            "_model_name": "DescriptionStyleModel",
            "_view_count": null,
            "_view_module": "@jupyter-widgets/base",
            "_view_module_version": "1.2.0",
            "_view_name": "StyleView",
            "description_width": ""
          }
        }
      }
    }
  },
  "nbformat": 4,
  "nbformat_minor": 0
}